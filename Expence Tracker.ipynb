{
 "cells": [
  {
   "cell_type": "markdown",
   "id": "12b406fc-a451-48ff-9e48-8cf84574a391",
   "metadata": {},
   "source": [
    "# EXPENSE TRACKER"
   ]
  },
  {
   "cell_type": "code",
   "execution_count": 2,
   "id": "82363518-fd8e-4c9f-90c3-69e375af28de",
   "metadata": {},
   "outputs": [],
   "source": [
    "user = \"Njenga\"\n",
    "current_month = \"August 2025\"\n",
    "currency = \"$\"\n",
    "budget = 500.00\n",
    "number_of_days = 30\n",
    "is_budget_set = True\n"
   ]
  },
  {
   "cell_type": "code",
   "execution_count": 9,
   "id": "149eb099-309f-4a1d-b8b3-95f3435cbcbf",
   "metadata": {},
   "outputs": [
    {
     "name": "stdout",
     "output_type": "stream",
     "text": [
      "Budget for: August 2025 500.0\n"
     ]
    }
   ],
   "source": [
    "print (\"Budget for:\", current_month, budget)"
   ]
  },
  {
   "cell_type": "code",
   "execution_count": null,
   "id": "17b99d05-a3f3-4525-87ad-b1b162f042b3",
   "metadata": {},
   "outputs": [],
   "source": []
  },
  {
   "cell_type": "markdown",
   "id": "243dd458-6bea-4cb4-91fd-e6c96f8c17df",
   "metadata": {},
   "source": [
    "# Let us make a budget for one item"
   ]
  },
  {
   "cell_type": "code",
   "execution_count": 27,
   "id": "aeeec9d5-ad77-4004-849b-851af7c76d7e",
   "metadata": {},
   "outputs": [],
   "source": [
    "item = \"rent\"\n",
    "amount = 200.00\n",
    "category = \"housing\"\n",
    "is_necessary = True\n",
    "balance = budget - amount\n"
   ]
  },
  {
   "cell_type": "markdown",
   "id": "2b546172-df28-42c4-9e48-139a14edba5f",
   "metadata": {},
   "source": [
    "# Create a Dashboard"
   ]
  },
  {
   "cell_type": "code",
   "execution_count": 71,
   "id": "8ae8a1cd-e6be-4f8c-91ad-071c38766f22",
   "metadata": {},
   "outputs": [
    {
     "name": "stdout",
     "output_type": "stream",
     "text": [
      "          EXPENSE TRACKER\n",
      "========================================\n",
      "Owner                        Njenga\n",
      "Period                       August 2025\n",
      "Total expenses               335.0\n",
      "Starting balance             500.0\n",
      "----------------------------------------\n",
      "Balance                      165.0\n",
      "----------------------------------------\n",
      "Transactions                 6\n",
      "========================================\n",
      "\n",
      "          You Were Served by Master Dante\n",
      "          Thanks and welcome again\n"
     ]
    }
   ],
   "source": [
    "print (\"          EXPENSE TRACKER\")\n",
    "print (\"=\" * 40)\n",
    "print (\"Owner\", '                      ', user)\n",
    "print (\"Period\", '                     ',current_month)\n",
    "print (\"Total expenses\", '             ', total_expenses)\n",
    "print (\"Starting balance\", '           ', budget)\n",
    "print (\"-\" * 40)\n",
    "print (\"Balance\", '                    ', balance)\n",
    "print (\"-\" * 40)\n",
    "print (\"Transactions\", '               ', number_of_items)\n",
    "print(\"=\" * 40 + \"\\n\")\n",
    "\n",
    "\n",
    "print (\"          You Were Served by Master Dante\")\n",
    "print (\"          Thanks and welcome again\")"
   ]
  },
  {
   "cell_type": "code",
   "execution_count": 42,
   "id": "a60320f6-1873-41d4-8160-011f791d5e6b",
   "metadata": {},
   "outputs": [
    {
     "name": "stdout",
     "output_type": "stream",
     "text": [
      "['rent', 'electricity', 'clothes', 'data bundles', 'KFC', 'Netflix']\n"
     ]
    }
   ],
   "source": [
    "items = [\"rent\", \"electricity\", \"clothes\", \"data bundles\", \"KFC\", \"Netflix\"]\n",
    "print (items)\n",
    "\n",
    "prices = [200.00, 40.00, 50.00, 20.00, 10.00, 15.00]\n",
    "categories = [\"housing\", \"utility\", \"basic\", \"utility\", \"food\", \"entertainment\"]\n",
    "necessary = [True, True, True, True, False, False] "
   ]
  },
  {
   "cell_type": "code",
   "execution_count": 44,
   "id": "8e45cec3-63f2-4298-8e20-a1be4945d94e",
   "metadata": {},
   "outputs": [
    {
     "data": {
      "text/plain": [
       "[200.0, 40.0, 50.0, 20.0, 10.0, 15.0]"
      ]
     },
     "execution_count": 44,
     "metadata": {},
     "output_type": "execute_result"
    }
   ],
   "source": [
    "prices"
   ]
  },
  {
   "cell_type": "code",
   "execution_count": 47,
   "id": "fa4f4820-3006-4dc6-98b3-d2c33247ec65",
   "metadata": {},
   "outputs": [
    {
     "data": {
      "text/plain": [
       "335.0"
      ]
     },
     "execution_count": 47,
     "metadata": {},
     "output_type": "execute_result"
    }
   ],
   "source": [
    "sum (prices)"
   ]
  },
  {
   "cell_type": "code",
   "execution_count": 48,
   "id": "f94b0e4b-40b2-44c5-bfaf-f287db24cb22",
   "metadata": {},
   "outputs": [],
   "source": [
    "total_expenses = sum (prices)"
   ]
  },
  {
   "cell_type": "code",
   "execution_count": 58,
   "id": "ffa17280-22f7-47c0-b004-c8379abb8065",
   "metadata": {},
   "outputs": [],
   "source": [
    "balance = budget  - total_expenses  "
   ]
  },
  {
   "cell_type": "code",
   "execution_count": 62,
   "id": "d9c38753-c72f-44f0-9994-21686d8c672a",
   "metadata": {},
   "outputs": [],
   "source": [
    "number_of_items = len(items)"
   ]
  },
  {
   "cell_type": "code",
   "execution_count": null,
   "id": "425a9440-27ec-438d-9048-47839a873894",
   "metadata": {},
   "outputs": [],
   "source": []
  }
 ],
 "metadata": {
  "kernelspec": {
   "display_name": "Python 3 (ipykernel)",
   "language": "python",
   "name": "python3"
  },
  "language_info": {
   "codemirror_mode": {
    "name": "ipython",
    "version": 3
   },
   "file_extension": ".py",
   "mimetype": "text/x-python",
   "name": "python",
   "nbconvert_exporter": "python",
   "pygments_lexer": "ipython3",
   "version": "3.12.7"
  }
 },
 "nbformat": 4,
 "nbformat_minor": 5
}
